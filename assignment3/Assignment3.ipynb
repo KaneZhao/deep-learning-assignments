{
 "cells": [
  {
   "cell_type": "code",
   "execution_count": 30,
   "metadata": {},
   "outputs": [],
   "source": [
    "## Importing libraries\n",
    "import numpy as np\n",
    "import matplotlib.pyplot as plt\n",
    "import pandas as pd\n",
    "from sklearn.preprocessing import MinMaxScaler\n",
    "from tensorflow import keras\n",
    "import seaborn as sns\n",
    "import matplotlib.dates as mdates \n",
    "from sklearn.metrics import mean_absolute_error, mean_squared_error \n",
    "from keras.callbacks import EarlyStopping\n",
    "import tensorflow as tf"
   ]
  },
  {
   "cell_type": "markdown",
   "metadata": {},
   "source": [
    "## Load data"
   ]
  },
  {
   "cell_type": "code",
   "execution_count": 31,
   "metadata": {},
   "outputs": [],
   "source": [
    "data = pd.read_csv(\"./MSFT.csv\")\n"
   ]
  },
  {
   "cell_type": "code",
   "execution_count": 32,
   "metadata": {},
   "outputs": [
    {
     "data": {
      "text/plain": [
       "(5999, 7)"
      ]
     },
     "execution_count": 32,
     "metadata": {},
     "output_type": "execute_result"
    }
   ],
   "source": [
    "data.shape"
   ]
  },
  {
   "cell_type": "code",
   "execution_count": 33,
   "metadata": {},
   "outputs": [
    {
     "data": {
      "text/html": [
       "<div>\n",
       "<style scoped>\n",
       "    .dataframe tbody tr th:only-of-type {\n",
       "        vertical-align: middle;\n",
       "    }\n",
       "\n",
       "    .dataframe tbody tr th {\n",
       "        vertical-align: top;\n",
       "    }\n",
       "\n",
       "    .dataframe thead th {\n",
       "        text-align: right;\n",
       "    }\n",
       "</style>\n",
       "<table border=\"1\" class=\"dataframe\">\n",
       "  <thead>\n",
       "    <tr style=\"text-align: right;\">\n",
       "      <th></th>\n",
       "      <th>Open</th>\n",
       "      <th>High</th>\n",
       "      <th>Low</th>\n",
       "      <th>Close</th>\n",
       "      <th>Adj Close</th>\n",
       "      <th>Volume</th>\n",
       "    </tr>\n",
       "    <tr>\n",
       "      <th>Date</th>\n",
       "      <th></th>\n",
       "      <th></th>\n",
       "      <th></th>\n",
       "      <th></th>\n",
       "      <th></th>\n",
       "      <th></th>\n",
       "    </tr>\n",
       "  </thead>\n",
       "  <tbody>\n",
       "    <tr>\n",
       "      <th>2000-01-03</th>\n",
       "      <td>58.68750</td>\n",
       "      <td>59.3125</td>\n",
       "      <td>56.00000</td>\n",
       "      <td>58.28125</td>\n",
       "      <td>36.205593</td>\n",
       "      <td>53228400</td>\n",
       "    </tr>\n",
       "    <tr>\n",
       "      <th>2000-01-04</th>\n",
       "      <td>56.78125</td>\n",
       "      <td>58.5625</td>\n",
       "      <td>56.12500</td>\n",
       "      <td>56.31250</td>\n",
       "      <td>34.982559</td>\n",
       "      <td>54119000</td>\n",
       "    </tr>\n",
       "    <tr>\n",
       "      <th>2000-01-05</th>\n",
       "      <td>55.56250</td>\n",
       "      <td>58.1875</td>\n",
       "      <td>54.68750</td>\n",
       "      <td>56.90625</td>\n",
       "      <td>35.351421</td>\n",
       "      <td>64059600</td>\n",
       "    </tr>\n",
       "    <tr>\n",
       "      <th>2000-01-06</th>\n",
       "      <td>56.09375</td>\n",
       "      <td>56.9375</td>\n",
       "      <td>54.18750</td>\n",
       "      <td>55.00000</td>\n",
       "      <td>34.167217</td>\n",
       "      <td>54976600</td>\n",
       "    </tr>\n",
       "    <tr>\n",
       "      <th>2000-01-07</th>\n",
       "      <td>54.31250</td>\n",
       "      <td>56.1250</td>\n",
       "      <td>53.65625</td>\n",
       "      <td>55.71875</td>\n",
       "      <td>34.613728</td>\n",
       "      <td>62013600</td>\n",
       "    </tr>\n",
       "  </tbody>\n",
       "</table>\n",
       "</div>"
      ],
      "text/plain": [
       "                Open     High       Low     Close  Adj Close    Volume\n",
       "Date                                                                  \n",
       "2000-01-03  58.68750  59.3125  56.00000  58.28125  36.205593  53228400\n",
       "2000-01-04  56.78125  58.5625  56.12500  56.31250  34.982559  54119000\n",
       "2000-01-05  55.56250  58.1875  54.68750  56.90625  35.351421  64059600\n",
       "2000-01-06  56.09375  56.9375  54.18750  55.00000  34.167217  54976600\n",
       "2000-01-07  54.31250  56.1250  53.65625  55.71875  34.613728  62013600"
      ]
     },
     "execution_count": 33,
     "metadata": {},
     "output_type": "execute_result"
    }
   ],
   "source": [
    "data[\"Date\"]= pd.to_datetime(data[\"Date\"])\n",
    "data = data.set_index('Date')\n",
    "data = data.sort_values(by = ['Date'])\n",
    "data.head()"
   ]
  },
  {
   "cell_type": "code",
   "execution_count": 34,
   "metadata": {},
   "outputs": [
    {
     "data": {
      "text/html": [
       "<div>\n",
       "<style scoped>\n",
       "    .dataframe tbody tr th:only-of-type {\n",
       "        vertical-align: middle;\n",
       "    }\n",
       "\n",
       "    .dataframe tbody tr th {\n",
       "        vertical-align: top;\n",
       "    }\n",
       "\n",
       "    .dataframe thead th {\n",
       "        text-align: right;\n",
       "    }\n",
       "</style>\n",
       "<table border=\"1\" class=\"dataframe\">\n",
       "  <thead>\n",
       "    <tr style=\"text-align: right;\">\n",
       "      <th></th>\n",
       "      <th>Open</th>\n",
       "      <th>High</th>\n",
       "      <th>Low</th>\n",
       "      <th>Close</th>\n",
       "      <th>Adj Close</th>\n",
       "      <th>Volume</th>\n",
       "    </tr>\n",
       "  </thead>\n",
       "  <tbody>\n",
       "    <tr>\n",
       "      <th>count</th>\n",
       "      <td>5999.000000</td>\n",
       "      <td>5999.000000</td>\n",
       "      <td>5999.000000</td>\n",
       "      <td>5999.000000</td>\n",
       "      <td>5999.000000</td>\n",
       "      <td>5.999000e+03</td>\n",
       "    </tr>\n",
       "    <tr>\n",
       "      <th>mean</th>\n",
       "      <td>77.139668</td>\n",
       "      <td>77.949712</td>\n",
       "      <td>76.316865</td>\n",
       "      <td>77.156730</td>\n",
       "      <td>70.286945</td>\n",
       "      <td>5.137814e+07</td>\n",
       "    </tr>\n",
       "    <tr>\n",
       "      <th>std</th>\n",
       "      <td>86.048453</td>\n",
       "      <td>86.933727</td>\n",
       "      <td>85.126860</td>\n",
       "      <td>86.069734</td>\n",
       "      <td>87.619441</td>\n",
       "      <td>3.076160e+07</td>\n",
       "    </tr>\n",
       "    <tr>\n",
       "      <th>min</th>\n",
       "      <td>15.200000</td>\n",
       "      <td>15.620000</td>\n",
       "      <td>14.870000</td>\n",
       "      <td>15.150000</td>\n",
       "      <td>11.327565</td>\n",
       "      <td>7.425600e+06</td>\n",
       "    </tr>\n",
       "    <tr>\n",
       "      <th>25%</th>\n",
       "      <td>27.030001</td>\n",
       "      <td>27.295000</td>\n",
       "      <td>26.799999</td>\n",
       "      <td>27.045000</td>\n",
       "      <td>19.058252</td>\n",
       "      <td>2.875525e+07</td>\n",
       "    </tr>\n",
       "    <tr>\n",
       "      <th>50%</th>\n",
       "      <td>32.494999</td>\n",
       "      <td>32.937500</td>\n",
       "      <td>32.125000</td>\n",
       "      <td>32.590000</td>\n",
       "      <td>23.640200</td>\n",
       "      <td>4.612340e+07</td>\n",
       "    </tr>\n",
       "    <tr>\n",
       "      <th>75%</th>\n",
       "      <td>83.645001</td>\n",
       "      <td>84.184998</td>\n",
       "      <td>83.110001</td>\n",
       "      <td>83.840001</td>\n",
       "      <td>78.063667</td>\n",
       "      <td>6.507830e+07</td>\n",
       "    </tr>\n",
       "    <tr>\n",
       "      <th>max</th>\n",
       "      <td>361.750000</td>\n",
       "      <td>366.779999</td>\n",
       "      <td>352.440002</td>\n",
       "      <td>359.489990</td>\n",
       "      <td>358.730469</td>\n",
       "      <td>5.910522e+08</td>\n",
       "    </tr>\n",
       "  </tbody>\n",
       "</table>\n",
       "</div>"
      ],
      "text/plain": [
       "              Open         High          Low        Close    Adj Close   \n",
       "count  5999.000000  5999.000000  5999.000000  5999.000000  5999.000000  \\\n",
       "mean     77.139668    77.949712    76.316865    77.156730    70.286945   \n",
       "std      86.048453    86.933727    85.126860    86.069734    87.619441   \n",
       "min      15.200000    15.620000    14.870000    15.150000    11.327565   \n",
       "25%      27.030001    27.295000    26.799999    27.045000    19.058252   \n",
       "50%      32.494999    32.937500    32.125000    32.590000    23.640200   \n",
       "75%      83.645001    84.184998    83.110001    83.840001    78.063667   \n",
       "max     361.750000   366.779999   352.440002   359.489990   358.730469   \n",
       "\n",
       "             Volume  \n",
       "count  5.999000e+03  \n",
       "mean   5.137814e+07  \n",
       "std    3.076160e+07  \n",
       "min    7.425600e+06  \n",
       "25%    2.875525e+07  \n",
       "50%    4.612340e+07  \n",
       "75%    6.507830e+07  \n",
       "max    5.910522e+08  "
      ]
     },
     "execution_count": 34,
     "metadata": {},
     "output_type": "execute_result"
    }
   ],
   "source": [
    "data.describe()"
   ]
  },
  {
   "cell_type": "code",
   "execution_count": 35,
   "metadata": {},
   "outputs": [
    {
     "data": {
      "text/plain": [
       "Open         0\n",
       "High         0\n",
       "Low          0\n",
       "Close        0\n",
       "Adj Close    0\n",
       "Volume       0\n",
       "dtype: int64"
      ]
     },
     "execution_count": 35,
     "metadata": {},
     "output_type": "execute_result"
    }
   ],
   "source": [
    "# check null\n",
    "data.isna().sum()"
   ]
  },
  {
   "cell_type": "code",
   "execution_count": 36,
   "metadata": {},
   "outputs": [
    {
     "data": {
      "image/png": "[encoded data removed]",
      "text/plain": [
       "<Figure size 2000x1500 with 6 Axes>"
      ]
     },
     "metadata": {},
     "output_type": "display_data"
    }
   ],
   "source": [
    "data.hist(bins = 150, figsize = (20,15))\n",
    "plt.show()"
   ]
  },
  {
   "cell_type": "code",
   "execution_count": 19,
   "metadata": {},
   "outputs": [
    {
     "data": {
      "text/plain": [
       "0        59.312500\n",
       "1        58.562500\n",
       "2        58.187500\n",
       "3        56.937500\n",
       "4        56.125000\n",
       "           ...    \n",
       "5994    339.450012\n",
       "5995    339.000000\n",
       "5996    347.420013\n",
       "5997    348.829987\n",
       "5998    354.390015\n",
       "Name: High, Length: 5999, dtype: float64"
      ]
     },
     "execution_count": 19,
     "metadata": {},
     "output_type": "execute_result"
    }
   ],
   "source": [
    "df1 = data['High']\n",
    "df1"
   ]
  },
  {
   "cell_type": "code",
   "execution_count": 20,
   "metadata": {},
   "outputs": [],
   "source": [
    "import numpy as np\n",
    "from sklearn.preprocessing import MinMaxScaler\n",
    "scalar = MinMaxScaler(feature_range=(0,1))\n",
    "df1 = scalar.fit_transform(np.array(df1).reshape(-1,1))"
   ]
  },
  {
   "cell_type": "code",
   "execution_count": 21,
   "metadata": {},
   "outputs": [
    {
     "name": "stdout",
     "output_type": "stream",
     "text": [
      "5699\n",
      "300\n"
     ]
    }
   ],
   "source": [
    "training_size = int(len(df1)*0.95)\n",
    "\n",
    "test_size = len(df1) - training_size\n",
    "\n",
    "train_data, test_data = df1[0:training_size,:], df1[training_size:,:]  \n",
    "                                                                    \n",
    "print(len(train_data))\n",
    "print(len(test_data))"
   ]
  }
 ],
 "metadata": {
  "kernelspec": {
   "display_name": "Python 3",
   "language": "python",
   "name": "python3"
  },
  "language_info": {
   "codemirror_mode": {
    "name": "ipython",
    "version": 3
   },
   "file_extension": ".py",
   "mimetype": "text/x-python",
   "name": "python",
   "nbconvert_exporter": "python",
   "pygments_lexer": "ipython3",
   "version": "3.10.10"
  },
  "orig_nbformat": 4
 },
 "nbformat": 4,
 "nbformat_minor": 2
}
